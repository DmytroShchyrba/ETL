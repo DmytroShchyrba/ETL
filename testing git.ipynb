{
 "cells": [
  {
   "cell_type": "code",
   "execution_count": 1,
   "outputs": [
    {
     "name": "stdout",
     "output_type": "stream",
     "text": [
      "Hello World\n"
     ]
    }
   ],
   "source": [
    "print(\"Hello World\")"
   ],
   "metadata": {
    "collapsed": false,
    "ExecuteTime": {
     "end_time": "2023-07-22T13:25:52.452946400Z",
     "start_time": "2023-07-22T13:25:52.407274800Z"
    }
   }
  },
  {
   "cell_type": "code",
   "execution_count": 2,
   "outputs": [],
   "source": [
    "import tensorflow as tf"
   ],
   "metadata": {
    "collapsed": false,
    "ExecuteTime": {
     "end_time": "2023-07-22T20:43:27.016570100Z",
     "start_time": "2023-07-22T20:43:15.255119200Z"
    }
   }
  },
  {
   "cell_type": "code",
   "execution_count": 4,
   "outputs": [],
   "source": [
    "waymo = tf.data.TFRecordDataset('data/waymo_training_00000.tfrecord')"
   ],
   "metadata": {
    "collapsed": false,
    "ExecuteTime": {
     "end_time": "2023-07-22T13:27:35.173700Z",
     "start_time": "2023-07-22T13:27:34.983896900Z"
    }
   }
  },
  {
   "cell_type": "code",
   "execution_count": 8,
   "outputs": [
    {
     "name": "stdout",
     "output_type": "stream",
     "text": [
      "<TFRecordDatasetV2 element_spec=TensorSpec(shape=(), dtype=tf.string, name=None)>\n"
     ]
    }
   ],
   "source": [
    "print(waymo)"
   ],
   "metadata": {
    "collapsed": false,
    "ExecuteTime": {
     "end_time": "2023-07-22T13:28:38.366192Z",
     "start_time": "2023-07-22T13:28:38.304964100Z"
    }
   }
  },
  {
   "cell_type": "code",
   "execution_count": 12,
   "outputs": [],
   "source": [
    "import tensorflow_datasets as tfds\n"
   ],
   "metadata": {
    "collapsed": false,
    "ExecuteTime": {
     "end_time": "2023-07-22T21:01:11.066811300Z",
     "start_time": "2023-07-22T21:01:08.741738500Z"
    }
   }
  },
  {
   "cell_type": "code",
   "execution_count": 11,
   "outputs": [
    {
     "data": {
      "text/plain": "['abstract_reasoning',\n 'accentdb',\n 'aeslc',\n 'aflw2k3d',\n 'ag_news_subset',\n 'ai2_arc',\n 'ai2_arc_with_ir',\n 'amazon_us_reviews',\n 'anli',\n 'answer_equivalence',\n 'arc',\n 'asqa',\n 'asset',\n 'assin2',\n 'bair_robot_pushing_small',\n 'bccd',\n 'beans',\n 'bee_dataset',\n 'beir',\n 'big_patent',\n 'bigearthnet',\n 'billsum',\n 'binarized_mnist',\n 'binary_alpha_digits',\n 'ble_wind_field',\n 'blimp',\n 'booksum',\n 'bool_q',\n 'bucc',\n 'c4',\n 'c4_wsrs',\n 'caltech101',\n 'caltech_birds2010',\n 'caltech_birds2011',\n 'cardiotox',\n 'cars196',\n 'cassava',\n 'cats_vs_dogs',\n 'celeb_a',\n 'celeb_a_hq',\n 'cfq',\n 'cherry_blossoms',\n 'chexpert',\n 'cifar10',\n 'cifar100',\n 'cifar100_n',\n 'cifar10_1',\n 'cifar10_corrupted',\n 'cifar10_n',\n 'citrus_leaves',\n 'cityscapes',\n 'civil_comments',\n 'clevr',\n 'clic',\n 'clinc_oos',\n 'cmaterdb',\n 'cnn_dailymail',\n 'coco',\n 'coco_captions',\n 'coil100',\n 'colorectal_histology',\n 'colorectal_histology_large',\n 'common_voice',\n 'conll2002',\n 'conll2003',\n 'controlled_noisy_web_labels',\n 'coqa',\n 'cos_e',\n 'cosmos_qa',\n 'covid19',\n 'covid19sum',\n 'crema_d',\n 'criteo',\n 'cs_restaurants',\n 'curated_breast_imaging_ddsm',\n 'cycle_gan',\n 'd4rl_adroit_door',\n 'd4rl_adroit_hammer',\n 'd4rl_adroit_pen',\n 'd4rl_adroit_relocate',\n 'd4rl_antmaze',\n 'd4rl_mujoco_ant',\n 'd4rl_mujoco_halfcheetah',\n 'd4rl_mujoco_hopper',\n 'd4rl_mujoco_walker2d',\n 'dart',\n 'davis',\n 'deep1b',\n 'deep_weeds',\n 'definite_pronoun_resolution',\n 'dementiabank',\n 'diabetic_retinopathy_detection',\n 'diamonds',\n 'div2k',\n 'dmlab',\n 'doc_nli',\n 'dolphin_number_word',\n 'domainnet',\n 'downsampled_imagenet',\n 'drop',\n 'dsprites',\n 'dtd',\n 'duke_ultrasound',\n 'e2e_cleaned',\n 'efron_morris75',\n 'emnist',\n 'eraser_multi_rc',\n 'esnli',\n 'eurosat',\n 'fashion_mnist',\n 'flic',\n 'flores',\n 'food101',\n 'forest_fires',\n 'fuss',\n 'gap',\n 'geirhos_conflict_stimuli',\n 'gem',\n 'genomics_ood',\n 'german_credit_numeric',\n 'gigaword',\n 'glove100_angular',\n 'glue',\n 'goemotions',\n 'gov_report',\n 'gpt3',\n 'gref',\n 'groove',\n 'grounded_scan',\n 'gsm8k',\n 'gtzan',\n 'gtzan_music_speech',\n 'hellaswag',\n 'higgs',\n 'hillstrom',\n 'horses_or_humans',\n 'howell',\n 'i_naturalist2017',\n 'i_naturalist2018',\n 'i_naturalist2021',\n 'imagenet2012',\n 'imagenet2012_corrupted',\n 'imagenet2012_fewshot',\n 'imagenet2012_multilabel',\n 'imagenet2012_real',\n 'imagenet2012_subset',\n 'imagenet_a',\n 'imagenet_lt',\n 'imagenet_pi',\n 'imagenet_r',\n 'imagenet_resized',\n 'imagenet_sketch',\n 'imagenet_v2',\n 'imagenette',\n 'imagewang',\n 'imdb_reviews',\n 'irc_disentanglement',\n 'iris',\n 'istella',\n 'kddcup99',\n 'kitti',\n 'kmnist',\n 'laion400m',\n 'lambada',\n 'lfw',\n 'librispeech',\n 'librispeech_lm',\n 'libritts',\n 'ljspeech',\n 'lm1b',\n 'locomotion',\n 'lost_and_found',\n 'lsun',\n 'lvis',\n 'malaria',\n 'math_dataset',\n 'math_qa',\n 'mctaco',\n 'media_sum',\n 'mlqa',\n 'mnist',\n 'mnist_corrupted',\n 'movie_lens',\n 'movie_rationales',\n 'movielens',\n 'moving_mnist',\n 'mrqa',\n 'mslr_web',\n 'mt_opt',\n 'mtnt',\n 'multi_news',\n 'multi_nli',\n 'multi_nli_mismatch',\n 'natural_instructions',\n 'natural_questions',\n 'natural_questions_open',\n 'newsroom',\n 'nsynth',\n 'nyu_depth_v2',\n 'ogbg_molpcba',\n 'omniglot',\n 'open_images_challenge2019_detection',\n 'open_images_v4',\n 'openbookqa',\n 'opinion_abstracts',\n 'opinosis',\n 'opus',\n 'oxford_flowers102',\n 'oxford_iiit_pet',\n 'para_crawl',\n 'pass',\n 'patch_camelyon',\n 'paws_wiki',\n 'paws_x_wiki',\n 'penguins',\n 'pet_finder',\n 'pg19',\n 'piqa',\n 'places365_small',\n 'placesfull',\n 'plant_leaves',\n 'plant_village',\n 'plantae_k',\n 'protein_net',\n 'q_re_cc',\n 'qa4mre',\n 'qasc',\n 'quac',\n 'quality',\n 'quickdraw_bitmap',\n 'race',\n 'radon',\n 'reddit',\n 'reddit_disentanglement',\n 'reddit_tifu',\n 'ref_coco',\n 'resisc45',\n 'rlu_atari',\n 'rlu_atari_checkpoints',\n 'rlu_atari_checkpoints_ordered',\n 'rlu_control_suite',\n 'rlu_dmlab_explore_object_rewards_few',\n 'rlu_dmlab_explore_object_rewards_many',\n 'rlu_dmlab_rooms_select_nonmatching_object',\n 'rlu_dmlab_rooms_watermaze',\n 'rlu_dmlab_seekavoid_arena01',\n 'rlu_locomotion',\n 'rlu_rwrl',\n 'robomimic_mg',\n 'robomimic_mh',\n 'robomimic_ph',\n 'robonet',\n 'robosuite_panda_pick_place_can',\n 'rock_paper_scissors',\n 'rock_you',\n 's3o4d',\n 'salient_span_wikipedia',\n 'samsum',\n 'savee',\n 'scan',\n 'scene_parse150',\n 'schema_guided_dialogue',\n 'sci_tail',\n 'scicite',\n 'scientific_papers',\n 'scrolls',\n 'sentiment140',\n 'shapes3d',\n 'sift1m',\n 'simpte',\n 'siscore',\n 'smallnorb',\n 'smartwatch_gestures',\n 'snli',\n 'so2sat',\n 'speech_commands',\n 'spoken_digit',\n 'squad',\n 'squad_question_generation',\n 'stanford_dogs',\n 'stanford_online_products',\n 'star_cfq',\n 'starcraft_video',\n 'stl10',\n 'story_cloze',\n 'summscreen',\n 'sun397',\n 'super_glue',\n 'svhn_cropped',\n 'symmetric_solids',\n 'tao',\n 'tatoeba',\n 'ted_hrlr_translate',\n 'ted_multi_translate',\n 'tedlium',\n 'tf_flowers',\n 'the300w_lp',\n 'tiny_shakespeare',\n 'titanic',\n 'trec',\n 'trivia_qa',\n 'tydi_qa',\n 'uc_merced',\n 'ucf101',\n 'unified_qa',\n 'universal_dependencies',\n 'unnatural_instructions',\n 'user_libri_audio',\n 'user_libri_text',\n 'vctk',\n 'visual_domain_decathlon',\n 'voc',\n 'voxceleb',\n 'voxforge',\n 'waymo_open_dataset',\n 'web_graph',\n 'web_nlg',\n 'web_questions',\n 'webvid',\n 'wider_face',\n 'wiki40b',\n 'wiki_auto',\n 'wiki_bio',\n 'wiki_dialog',\n 'wiki_table_questions',\n 'wiki_table_text',\n 'wikiann',\n 'wikihow',\n 'wikipedia',\n 'wikipedia_toxicity_subtypes',\n 'wine_quality',\n 'winogrande',\n 'wit',\n 'wit_kaggle',\n 'wmt13_translate',\n 'wmt14_translate',\n 'wmt15_translate',\n 'wmt16_translate',\n 'wmt17_translate',\n 'wmt18_translate',\n 'wmt19_translate',\n 'wmt_t2t_translate',\n 'wmt_translate',\n 'wordnet',\n 'wsc273',\n 'xnli',\n 'xquad',\n 'xsum',\n 'xtreme_pawsx',\n 'xtreme_pos',\n 'xtreme_s',\n 'xtreme_xnli',\n 'yahoo_ltrc',\n 'yelp_polarity_reviews',\n 'yes_no',\n 'youtube_vis']"
     },
     "execution_count": 11,
     "metadata": {},
     "output_type": "execute_result"
    }
   ],
   "source": [
    "tfds.list_builders()"
   ],
   "metadata": {
    "collapsed": false,
    "ExecuteTime": {
     "end_time": "2023-07-22T13:31:00.416265600Z",
     "start_time": "2023-07-22T13:31:00.365318300Z"
    }
   }
  },
  {
   "cell_type": "code",
   "execution_count": 12,
   "outputs": [],
   "source": [
    "from tensorflow_datasets.image_classification import mnist"
   ],
   "metadata": {
    "collapsed": false,
    "ExecuteTime": {
     "end_time": "2023-07-22T13:31:35.826722400Z",
     "start_time": "2023-07-22T13:31:35.797517600Z"
    }
   }
  },
  {
   "cell_type": "code",
   "execution_count": 13,
   "outputs": [
    {
     "data": {
      "text/plain": "<tensorflow_datasets.image_classification.mnist.MNIST at 0x23594a43e20>"
     },
     "execution_count": 13,
     "metadata": {},
     "output_type": "execute_result"
    }
   ],
   "source": [
    "mnist.MNIST()"
   ],
   "metadata": {
    "collapsed": false,
    "ExecuteTime": {
     "end_time": "2023-07-22T13:31:39.748628500Z",
     "start_time": "2023-07-22T13:31:39.673751Z"
    }
   }
  },
  {
   "cell_type": "code",
   "execution_count": 14,
   "outputs": [
    {
     "data": {
      "text/plain": "tfds.core.DatasetInfo(\n    name='mnist',\n    full_name='mnist/3.0.1',\n    description=\"\"\"\n    The MNIST database of handwritten digits.\n    \"\"\",\n    homepage='http://yann.lecun.com/exdb/mnist/',\n    data_path='C:\\\\Users\\\\dimas\\\\tensorflow_datasets\\\\mnist\\\\3.0.1',\n    file_format=tfrecord,\n    download_size=Unknown size,\n    dataset_size=Unknown size,\n    features=FeaturesDict({\n        'image': Image(shape=(28, 28, 1), dtype=uint8),\n        'label': ClassLabel(shape=(), dtype=int64, num_classes=10),\n    }),\n    supervised_keys=('image', 'label'),\n    disable_shuffling=False,\n    splits={\n    },\n    citation=\"\"\"@article{lecun2010mnist,\n      title={MNIST handwritten digit database},\n      author={LeCun, Yann and Cortes, Corinna and Burges, CJ},\n      journal={ATT Labs [Online]. Available: http://yann.lecun.com/exdb/mnist},\n      volume={2},\n      year={2010}\n    }\"\"\",\n)"
     },
     "execution_count": 14,
     "metadata": {},
     "output_type": "execute_result"
    }
   ],
   "source": [
    "mnist.MNIST().info"
   ],
   "metadata": {
    "collapsed": false,
    "ExecuteTime": {
     "end_time": "2023-07-22T13:31:44.235503500Z",
     "start_time": "2023-07-22T13:31:44.165641400Z"
    }
   }
  },
  {
   "cell_type": "code",
   "execution_count": 15,
   "outputs": [
    {
     "name": "stdout",
     "output_type": "stream",
     "text": [
      "\u001B[1mDownloading and preparing dataset Unknown size (download: Unknown size, generated: Unknown size, total: Unknown size) to C:\\Users\\dimas\\tensorflow_datasets\\mnist\\3.0.1...\u001B[0m\n"
     ]
    },
    {
     "data": {
      "text/plain": "Dl Completed...: 0 url [00:00, ? url/s]",
      "application/vnd.jupyter.widget-view+json": {
       "version_major": 2,
       "version_minor": 0,
       "model_id": "103619b568bc47bb93b8c4477c729ab4"
      }
     },
     "metadata": {},
     "output_type": "display_data"
    },
    {
     "data": {
      "text/plain": "Dl Size...: 0 MiB [00:00, ? MiB/s]",
      "application/vnd.jupyter.widget-view+json": {
       "version_major": 2,
       "version_minor": 0,
       "model_id": "7267b10c52ac4146847ed3b3955ab84f"
      }
     },
     "metadata": {},
     "output_type": "display_data"
    },
    {
     "data": {
      "text/plain": "Extraction completed...: 0 file [00:00, ? file/s]",
      "application/vnd.jupyter.widget-view+json": {
       "version_major": 2,
       "version_minor": 0,
       "model_id": "4fc96207f99f457da0d389b1b22a7dc7"
      }
     },
     "metadata": {},
     "output_type": "display_data"
    },
    {
     "data": {
      "text/plain": "Generating splits...:   0%|          | 0/2 [00:00<?, ? splits/s]",
      "application/vnd.jupyter.widget-view+json": {
       "version_major": 2,
       "version_minor": 0,
       "model_id": "c3dd7834f2f34b27b7234c3d76724791"
      }
     },
     "metadata": {},
     "output_type": "display_data"
    },
    {
     "data": {
      "text/plain": "Generating train examples...: 0 examples [00:00, ? examples/s]",
      "application/vnd.jupyter.widget-view+json": {
       "version_major": 2,
       "version_minor": 0,
       "model_id": "a8511171c35c46e1808aced14967ef85"
      }
     },
     "metadata": {},
     "output_type": "display_data"
    },
    {
     "data": {
      "text/plain": "Shuffling C:\\Users\\dimas\\tensorflow_datasets\\mnist\\3.0.1.incompleteV64B25\\mnist-train.tfrecord*...:   0%|     …",
      "application/vnd.jupyter.widget-view+json": {
       "version_major": 2,
       "version_minor": 0,
       "model_id": "7dd223dbfd374a9a93ddc5c3d5420f62"
      }
     },
     "metadata": {},
     "output_type": "display_data"
    },
    {
     "data": {
      "text/plain": "Generating test examples...: 0 examples [00:00, ? examples/s]",
      "application/vnd.jupyter.widget-view+json": {
       "version_major": 2,
       "version_minor": 0,
       "model_id": "a1e0e5cbe23b4fc98dbf48244fbba116"
      }
     },
     "metadata": {},
     "output_type": "display_data"
    },
    {
     "data": {
      "text/plain": "Shuffling C:\\Users\\dimas\\tensorflow_datasets\\mnist\\3.0.1.incompleteV64B25\\mnist-test.tfrecord*...:   0%|      …",
      "application/vnd.jupyter.widget-view+json": {
       "version_major": 2,
       "version_minor": 0,
       "model_id": "711e6aae1d5a428f866a08826fe50598"
      }
     },
     "metadata": {},
     "output_type": "display_data"
    },
    {
     "name": "stdout",
     "output_type": "stream",
     "text": [
      "\u001B[1mDataset mnist downloaded and prepared to C:\\Users\\dimas\\tensorflow_datasets\\mnist\\3.0.1. Subsequent calls will reuse this data.\u001B[0m\n"
     ]
    }
   ],
   "source": [
    "mnist.MNIST().download_and_prepare()"
   ],
   "metadata": {
    "collapsed": false,
    "ExecuteTime": {
     "end_time": "2023-07-22T13:32:30.836830700Z",
     "start_time": "2023-07-22T13:31:48.034985500Z"
    }
   }
  },
  {
   "cell_type": "code",
   "execution_count": 16,
   "outputs": [],
   "source": [
    "from tensorflow_datasets.object_detection import waymo_open_dataset"
   ],
   "metadata": {
    "collapsed": false,
    "ExecuteTime": {
     "end_time": "2023-07-22T13:32:48.250896800Z",
     "start_time": "2023-07-22T13:32:48.185173Z"
    }
   }
  },
  {
   "cell_type": "code",
   "execution_count": 3,
   "outputs": [],
   "source": [
    "dataset = tf.data.TFRecordDataset(r\"C:\\Users\\dimas\\tensorflow_datasets\\mnist\\3.0.1\\mnist-test.tfrecord-00000-of-00001\")"
   ],
   "metadata": {
    "collapsed": false,
    "ExecuteTime": {
     "end_time": "2023-07-22T20:43:33.393595100Z",
     "start_time": "2023-07-22T20:43:33.235180300Z"
    }
   }
  },
  {
   "cell_type": "code",
   "execution_count": 6,
   "outputs": [],
   "source": [
    "#load the first record\n",
    "raw_example = next(iter(dataset))"
   ],
   "metadata": {
    "collapsed": false,
    "ExecuteTime": {
     "end_time": "2023-07-22T20:44:33.496893900Z",
     "start_time": "2023-07-22T20:44:33.360334200Z"
    }
   }
  },
  {
   "cell_type": "code",
   "execution_count": 7,
   "outputs": [
    {
     "data": {
      "text/plain": "<tf.Tensor: shape=(), dtype=string, numpy=b\"\\n\\x85\\x03\\n\\x0e\\n\\x05label\\x12\\x05\\x1a\\x03\\n\\x01\\x02\\n\\xf2\\x02\\n\\x05image\\x12\\xe8\\x02\\n\\xe5\\x02\\n\\xe2\\x02\\x89PNG\\r\\n\\x1a\\n\\x00\\x00\\x00\\rIHDR\\x00\\x00\\x00\\x1c\\x00\\x00\\x00\\x1c\\x08\\x00\\x00\\x00\\x00Wf\\x80H\\x00\\x00\\x01)IDAT(\\x91\\xc5\\xd2\\xbdK\\xc3P\\x14\\x05\\xf0S(v\\x13)\\x04,.\\x82\\xc5Aq\\xac\\xedb\\x1d\\xdc\\n.\\x12\\x87n\\x0e\\x82\\x93\\x7f@Q\\xb2\\x08\\xba\\tbQ0.\\xe2\\xe2\\xd4\\xb1\\xa2h\\x9c\\x82\\xba\\x8a(\\nq\\xf0\\x83Fh\\x95\\n6\\x88\\xe7R\\x87\\x88\\xf9\\xa8Y\\xf5\\x0e\\x8f\\xc7\\xfd\\xdd\\x0b\\x87\\xc7\\x03\\xfe\\xbeb\\x9d\\xadT\\x927Q\\xe3\\xe9\\x07:\\xab\\xbf\\xf4\\xf3\\xcf\\xf6\\x8a\\xd9\\x14\\xd29\\xea\\xb0\\x1eKH\\xde\\xab\\xea%\\xaba\\x1b=\\xa4P/\\xf5\\x02\\xd7\\\\\\x07\\x00\\xc4=,L\\xc0,>\\x01@2\\xf6\\x12\\xde\\x9c\\xde[t/\\xb3\\x0e\\x87\\xa2\\xe2\\xc2\\xe0A<\\xca\\xb26\\xd5(\\x1b\\xa9\\xd3\\xe8\\x0e\\xf5\\x86\\x17\\xceE\\xdarV\\xae\\xb7_\\xf3AR\\r!I\\xf7(\\x06m\\xaaE\\xbb\\xb6\\xac\\r*\\x9b$e<\\xb8\\xd7\\xa2\\x0e\\x00\\xd0l\\x92\\xb2\\xd5\\x15\\xcc\\xae'\\x00\\xf4m\\x08O'+\\xc2y\\x9f\\x8d\\xc9\\x15\\x80\\xfe\\x99[q\\x962@CN|i\\xf7\\xa9!=\\xd7 \\xab\\x19\\x00\\xc8\\xd6\\xb8\\xeb\\xa1\\xf0\\xd8l\\xca\\xfb]\\xee\\xfb]*\\x9fV\\xe1\\x07\\xb7\\xc9\\x8b55\\xe7M\\xef\\xb0\\x04\\xc0\\xfd&\\x89\\x01<\\xbe\\xf9\\x03*\\x8a\\xf5\\x81\\x7f\\xaa/2y\\x87ks\\xec\\x1e\\xc1\\x00\\x00\\x00\\x00IEND\\xaeB`\\x82\">"
     },
     "execution_count": 7,
     "metadata": {},
     "output_type": "execute_result"
    }
   ],
   "source": [
    "raw_example"
   ],
   "metadata": {
    "collapsed": false,
    "ExecuteTime": {
     "end_time": "2023-07-22T20:44:37.139441100Z",
     "start_time": "2023-07-22T20:44:37.089412300Z"
    }
   }
  },
  {
   "cell_type": "code",
   "execution_count": 8,
   "outputs": [],
   "source": [
    "#parse the raw record into tensors\n",
    "parsed = tf.train.Example.FromString(raw_example.numpy())"
   ],
   "metadata": {
    "collapsed": false,
    "ExecuteTime": {
     "end_time": "2023-07-22T20:44:45.680402600Z",
     "start_time": "2023-07-22T20:44:45.633076800Z"
    }
   }
  },
  {
   "cell_type": "code",
   "execution_count": 9,
   "outputs": [
    {
     "data": {
      "text/plain": "features {\n  feature {\n    key: \"label\"\n    value {\n      int64_list {\n        value: 2\n      }\n    }\n  }\n  feature {\n    key: \"image\"\n    value {\n      bytes_list {\n        value: \"\\211PNG\\r\\n\\032\\n\\000\\000\\000\\rIHDR\\000\\000\\000\\034\\000\\000\\000\\034\\010\\000\\000\\000\\000Wf\\200H\\000\\000\\001)IDAT(\\221\\305\\322\\275K\\303P\\024\\005\\360S(v\\023)\\004,.\\202\\305Aq\\254\\355b\\035\\334\\n.\\022\\207n\\016\\202\\223\\177@Q\\262\\010\\272\\tbQ0.\\342\\342\\324\\261\\242h\\234\\202\\272\\212(\\nq\\360\\203Fh\\225\\n6\\210\\347R\\207\\210\\371\\250Y\\365\\016\\217\\307\\375\\335\\013\\207\\307\\003\\376\\276b\\235\\255T\\2227Q\\343\\351\\007:\\253\\277\\364\\363\\317\\366\\212\\331\\024\\3229\\352\\260\\036KH\\336\\253\\352%\\253a\\033=\\244P/\\365\\002\\327\\\\\\007\\000\\304=,L\\300,>\\001@2\\366\\022\\336\\234\\336[t/\\263\\016\\207\\242\\342\\302\\340A<\\312\\2626\\325(\\033\\251\\323\\350\\016\\365\\206\\027\\316E\\332rV\\256\\267_\\363AR\\r!I\\367(\\006m\\252E\\273\\266\\254\\r*\\233$e<\\270\\327\\242\\016\\000\\320l\\222\\262\\325\\025\\314\\256\\'\\000\\364m\\010O\\'+\\302y\\237\\215\\311\\025\\200\\376\\231[q\\2262@CN|i\\367\\251!=\\327 \\253\\031\\000\\310\\326\\270\\353\\241\\360\\330l\\312\\373]\\356\\373]*\\237V\\341\\007\\267\\311\\21355\\347M\\357\\260\\004\\300\\375&\\211\\001<\\276\\371\\003*\\212\\365\\201\\177\\252/2y\\207ks\\354\\036\\301\\000\\000\\000\\000IEND\\256B`\\202\"\n      }\n    }\n  }\n}"
     },
     "execution_count": 9,
     "metadata": {},
     "output_type": "execute_result"
    }
   ],
   "source": [
    "parsed"
   ],
   "metadata": {
    "collapsed": false,
    "ExecuteTime": {
     "end_time": "2023-07-22T20:44:48.110770100Z",
     "start_time": "2023-07-22T20:44:48.098955Z"
    }
   }
  },
  {
   "cell_type": "code",
   "execution_count": 10,
   "outputs": [
    {
     "data": {
      "text/plain": "b\"\\x89PNG\\r\\n\\x1a\\n\\x00\\x00\\x00\\rIHDR\\x00\\x00\\x00\\x1c\\x00\\x00\\x00\\x1c\\x08\\x00\\x00\\x00\\x00Wf\\x80H\\x00\\x00\\x01)IDAT(\\x91\\xc5\\xd2\\xbdK\\xc3P\\x14\\x05\\xf0S(v\\x13)\\x04,.\\x82\\xc5Aq\\xac\\xedb\\x1d\\xdc\\n.\\x12\\x87n\\x0e\\x82\\x93\\x7f@Q\\xb2\\x08\\xba\\tbQ0.\\xe2\\xe2\\xd4\\xb1\\xa2h\\x9c\\x82\\xba\\x8a(\\nq\\xf0\\x83Fh\\x95\\n6\\x88\\xe7R\\x87\\x88\\xf9\\xa8Y\\xf5\\x0e\\x8f\\xc7\\xfd\\xdd\\x0b\\x87\\xc7\\x03\\xfe\\xbeb\\x9d\\xadT\\x927Q\\xe3\\xe9\\x07:\\xab\\xbf\\xf4\\xf3\\xcf\\xf6\\x8a\\xd9\\x14\\xd29\\xea\\xb0\\x1eKH\\xde\\xab\\xea%\\xaba\\x1b=\\xa4P/\\xf5\\x02\\xd7\\\\\\x07\\x00\\xc4=,L\\xc0,>\\x01@2\\xf6\\x12\\xde\\x9c\\xde[t/\\xb3\\x0e\\x87\\xa2\\xe2\\xc2\\xe0A<\\xca\\xb26\\xd5(\\x1b\\xa9\\xd3\\xe8\\x0e\\xf5\\x86\\x17\\xceE\\xdarV\\xae\\xb7_\\xf3AR\\r!I\\xf7(\\x06m\\xaaE\\xbb\\xb6\\xac\\r*\\x9b$e<\\xb8\\xd7\\xa2\\x0e\\x00\\xd0l\\x92\\xb2\\xd5\\x15\\xcc\\xae'\\x00\\xf4m\\x08O'+\\xc2y\\x9f\\x8d\\xc9\\x15\\x80\\xfe\\x99[q\\x962@CN|i\\xf7\\xa9!=\\xd7 \\xab\\x19\\x00\\xc8\\xd6\\xb8\\xeb\\xa1\\xf0\\xd8l\\xca\\xfb]\\xee\\xfb]*\\x9fV\\xe1\\x07\\xb7\\xc9\\x8b55\\xe7M\\xef\\xb0\\x04\\xc0\\xfd&\\x89\\x01<\\xbe\\xf9\\x03*\\x8a\\xf5\\x81\\x7f\\xaa/2y\\x87ks\\xec\\x1e\\xc1\\x00\\x00\\x00\\x00IEND\\xaeB`\\x82\""
     },
     "execution_count": 10,
     "metadata": {},
     "output_type": "execute_result"
    }
   ],
   "source": [
    "parsed.features.feature['image'].bytes_list.value[0]"
   ],
   "metadata": {
    "collapsed": false,
    "ExecuteTime": {
     "end_time": "2023-07-22T20:44:51.519594300Z",
     "start_time": "2023-07-22T20:44:51.472495200Z"
    }
   }
  },
  {
   "cell_type": "code",
   "execution_count": 11,
   "outputs": [
    {
     "data": {
      "text/plain": "2"
     },
     "execution_count": 11,
     "metadata": {},
     "output_type": "execute_result"
    }
   ],
   "source": [
    "parsed.features.feature['label'].int64_list.value[0]"
   ],
   "metadata": {
    "collapsed": false,
    "ExecuteTime": {
     "end_time": "2023-07-22T20:44:56.034449400Z",
     "start_time": "2023-07-22T20:44:55.991616600Z"
    }
   }
  },
  {
   "cell_type": "code",
   "execution_count": null,
   "outputs": [],
   "source": [],
   "metadata": {
    "collapsed": false
   }
  },
  {
   "cell_type": "code",
   "execution_count": null,
   "outputs": [],
   "source": [
    "mnist.MNIST().download_and_prepare()"
   ],
   "metadata": {
    "collapsed": false
   }
  }
 ],
 "metadata": {
  "kernelspec": {
   "display_name": "Python 3",
   "language": "python",
   "name": "python3"
  },
  "language_info": {
   "codemirror_mode": {
    "name": "ipython",
    "version": 2
   },
   "file_extension": ".py",
   "mimetype": "text/x-python",
   "name": "python",
   "nbconvert_exporter": "python",
   "pygments_lexer": "ipython2",
   "version": "2.7.6"
  }
 },
 "nbformat": 4,
 "nbformat_minor": 0
}
